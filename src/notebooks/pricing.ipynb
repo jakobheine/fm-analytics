{
 "cells": [
  {
   "cell_type": "markdown",
   "source": [
    "**Install python dependencies**"
   ],
   "metadata": {}
  },
  {
   "cell_type": "code",
   "execution_count": 1,
   "source": [
    "!pip install -q -r ./dependencies/requirements.txt"
   ],
   "outputs": [
    {
     "output_type": "stream",
     "name": "stdout",
     "text": [
      "\u001b[33mWARNING: You are using pip version 21.2.4; however, version 21.3 is available.\n",
      "You should consider upgrading via the '/home/jakob/dev/fm-analytics/src/notebooks/venv/bin/python3 -m pip install --upgrade pip' command.\u001b[0m\n"
     ]
    }
   ],
   "metadata": {}
  },
  {
   "cell_type": "markdown",
   "source": [
    "**Load python libraries**"
   ],
   "metadata": {}
  },
  {
   "cell_type": "code",
   "execution_count": 2,
   "source": [
    "import pandas as pd\n",
    "from tqdm import tqdm\n",
    "import numpy as np\n",
    "from sqlalchemy import create_engine\n",
    "from os import getenv\n",
    "\n",
    "from scipy.optimize import curve_fit"
   ],
   "outputs": [],
   "metadata": {}
  },
  {
   "cell_type": "markdown",
   "source": [
    "**Load Data**"
   ],
   "metadata": {}
  },
  {
   "cell_type": "code",
   "execution_count": 79,
   "source": [
    "df = pd.DataFrame()\n",
    "\n",
    "df['percentage_above_threshhold'] = [0.15,0.14,0.13,0.12,0.11,0.10,0.09,0.08,0.07,0.06,0.05,0.04,0.03,0.02,0.01]\n",
    "\n",
    "df['price_in_%'] = [15, 7, 4.5, 3.3, 2.6, 2.2, 1.8, 1.6, 1.4, 1.3,1.1,1.1,0.89,0.89,0.89]\n",
    "\n",
    "def exponenial_func(x, a, b, c):\n",
    "    return a*np.exp(-b*x)+c\n",
    "\n",
    "popt, pcov = curve_fit(exponenial_func, df['percentage_above_threshhold'], df['price_in_%'])\n",
    "\n",
    "df['price_in_%_calc'] = exponenial_func(df['percentage_above_threshhold'], *popt)\n",
    "\n",
    "def calculate_price(threshhold, percentage, stake, participants=1000):\n",
    "    price = 0\n",
    "\n",
    "    percentage_above_threshhold = percentage - threshhold\n",
    "    percentage_above_threshhold = 0.15 if percentage_above_threshhold > 0.15 else percentage_above_threshhold\n",
    "\n",
    "    total_price = participants * stake\n",
    "    percentage_of_price = exponenial_func(percentage_above_threshhold, *popt)\n",
    "\n",
    "    if percentage_above_threshhold > 0:\n",
    "        price = total_price * percentage_of_price / 100\n",
    "\n",
    "    return price\n",
    "\n",
    "calculate_price(0.75, 0.9, 30)"
   ],
   "outputs": [
    {
     "output_type": "execute_result",
     "data": {
      "text/plain": [
       "4412.6730826054745"
      ]
     },
     "metadata": {},
     "execution_count": 79
    }
   ],
   "metadata": {}
  }
 ],
 "metadata": {
  "interpreter": {
   "hash": "74907149d8cf8355762064ff20aca90cf6505446beaf5da5d3df333eff494a69"
  },
  "kernelspec": {
   "name": "python3",
   "display_name": "Python 3.8.10 64-bit ('venv': venv)"
  },
  "language_info": {
   "codemirror_mode": {
    "name": "ipython",
    "version": 3
   },
   "file_extension": ".py",
   "mimetype": "text/x-python",
   "name": "python",
   "nbconvert_exporter": "python",
   "pygments_lexer": "ipython3",
   "version": "3.8.10"
  }
 },
 "nbformat": 4,
 "nbformat_minor": 2
}