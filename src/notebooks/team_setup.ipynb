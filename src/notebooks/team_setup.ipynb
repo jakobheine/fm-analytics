{
 "cells": [
  {
   "cell_type": "markdown",
   "source": [
    "**Install python dependencies**"
   ],
   "metadata": {}
  },
  {
   "cell_type": "code",
   "execution_count": null,
   "source": [
    "!pip install -q -r ./dependencies/requirements.txt"
   ],
   "outputs": [],
   "metadata": {}
  },
  {
   "cell_type": "markdown",
   "source": [
    "**Load python libraries**"
   ],
   "metadata": {}
  },
  {
   "cell_type": "code",
   "execution_count": null,
   "source": [
    "import pandas as pd\n",
    "from tqdm import tqdm\n",
    "import numpy as np\n",
    "from sqlalchemy import create_engine\n",
    "from os import getenv"
   ],
   "outputs": [],
   "metadata": {}
  },
  {
   "cell_type": "markdown",
   "source": [
    "**Connect to database**"
   ],
   "metadata": {}
  },
  {
   "cell_type": "code",
   "execution_count": null,
   "source": [
    "db_name = getenv(\"POSTGRES_DB\")\n",
    "db_user = getenv(\"POSTGRES_USER\")\n",
    "db_pass = getenv(\"POSTGRES_PASSWORD\")\n",
    "db_host = 'localhost'\n",
    "db_port = '5432'\n",
    "db_string = 'postgresql://{}:{}@{}:{}/{}'.format(db_user, db_pass, db_host, db_port, db_name)\n",
    "db = create_engine(db_string)"
   ],
   "outputs": [],
   "metadata": {}
  },
  {
   "cell_type": "markdown",
   "source": [
    "**Load Data**"
   ],
   "metadata": {}
  },
  {
   "cell_type": "code",
   "execution_count": null,
   "source": [
    "df = pd.read_csv('./data/final_scores.csv')\n",
    "\n",
    "df = df.drop(['is_home','odds_win',\t'odds_draw', 'odds_lose'], axis=1)\n",
    "\n",
    "df"
   ],
   "outputs": [],
   "metadata": {}
  },
  {
   "cell_type": "markdown",
   "source": [
    "**Get market values from database**"
   ],
   "metadata": {}
  },
  {
   "cell_type": "code",
   "execution_count": null,
   "source": [
    "GET_PLAYER_DATA = f\"\"\"\n",
    "select distinct (coalesce(p.first_name, '') || ' ' ||coalesce(p.last_name, '')) as name, m.market_value\n",
    "from players p\n",
    "inner join market_values m on p.id = m.player_id\n",
    "where m.valid_to is null;\n",
    "\"\"\"\n",
    "db_response = db.execute(GET_PLAYER_DATA)\n",
    "df_mv = pd.DataFrame(db_response.fetchall(), columns=db_response.keys())\n",
    "\n",
    "df_mv = df_mv.drop(df_mv.loc[(df_mv['name'] == 'Jonas Hofmann') & (df_mv['market_value'] == 50000000)].index)\n",
    "\n",
    "df_mv"
   ],
   "outputs": [],
   "metadata": {}
  },
  {
   "cell_type": "markdown",
   "source": [
    "**Join market values and scores**"
   ],
   "metadata": {}
  },
  {
   "cell_type": "code",
   "execution_count": null,
   "source": [
    "df = pd.merge(df, df_mv, how=\"inner\", on=\"name\")\n",
    "\n",
    "df"
   ],
   "outputs": [],
   "metadata": {}
  },
  {
   "cell_type": "markdown",
   "source": [
    "**Calculate adjusted score**"
   ],
   "metadata": {}
  },
  {
   "cell_type": "code",
   "execution_count": null,
   "source": [
    "df['final_score'] = df.apply(lambda row: row['final_score'] - round(row['market_value']/100000000 * 0.8), axis=1)\n",
    "\n",
    "df"
   ],
   "outputs": [],
   "metadata": {}
  },
  {
   "cell_type": "code",
   "execution_count": null,
   "source": [
    "def calculate_best_lineup(df, score_column):\n",
    "    possible_lineups = [[3,4,3], [3,5,2], [4,2,4], [4,3,3], [4,4,2], [4,5,1], [5,3,2], [5,4,1], [5,2,3], [3,3,4]]\n",
    "\n",
    "    best_lineup = pd.DataFrame({score_column: 0}, index=[0])\n",
    "\n",
    "    for number_of_defender, number_of_midfielder, number_of_attacker in possible_lineups:\n",
    "        df_goalkeeper = df.loc[df['position'] == 'goalkeeper'].nlargest(1, score_column, keep='first')\n",
    "        df_defender = df.loc[df['position'] == 'defender'].nlargest(number_of_defender, score_column, keep='first')\n",
    "        df_midfielder = df.loc[df['position'] == 'midfielder'].nlargest(number_of_midfielder, score_column, keep='first')\n",
    "        df_attacker = df.loc[df['position'] == 'attacker'].nlargest(number_of_attacker, score_column, keep='first')\n",
    "\n",
    "        df_lineup = pd.concat([df_goalkeeper, df_defender, df_midfielder, df_attacker])\n",
    "\n",
    "        captain_id = df_lineup[score_column].idxmax()\n",
    "        captain_score = df_lineup.at[captain_id, score_column]\n",
    "        df_lineup.at[captain_id, score_column] = captain_score * 2    \n",
    "\n",
    "        if df_lineup[score_column].sum() > best_lineup[score_column].sum():\n",
    "            best_lineup = df_lineup\n",
    "\n",
    "    return best_lineup"
   ],
   "outputs": [],
   "metadata": {}
  },
  {
   "cell_type": "code",
   "execution_count": null,
   "source": [
    "df_best_lineups = pd.DataFrame()\n",
    "\n",
    "for matchday, df_matchday in df.groupby('matchday'):\n",
    "    df_best_lineup = calculate_best_lineup(df_matchday[['name', 'position', 'final_score']], 'final_score')\n",
    "    lineup_dict = { 'matchday': matchday }\n",
    "\n",
    "    position_count = df_best_lineup.groupby('position').size()\n",
    "    lineup_dict['formation'] = '-'.join(str(e) for e in [position_count.defender, position_count.midfielder, position_count.attacker])\n",
    "\n",
    "    lineup_dict['score'] = df_best_lineup['final_score'].sum()\n",
    "\n",
    "    for position, df_position in df_best_lineup.groupby('position'):\n",
    "        lineup_dict[position] = ', '.join(df_position['name'].tolist())\n",
    "\n",
    "    df_best_lineups = df_best_lineups.append(lineup_dict, ignore_index=True)\n",
    "\n",
    "df_best_lineups = df_best_lineups[['matchday', 'formation', 'score', 'attacker', 'midfielder', 'defender', 'goalkeeper']]\n",
    "\n",
    "df_best_lineups.set_index('matchday').to_csv('./data/best_lineups.csv')"
   ],
   "outputs": [],
   "metadata": {}
  }
 ],
 "metadata": {
  "interpreter": {
   "hash": "74907149d8cf8355762064ff20aca90cf6505446beaf5da5d3df333eff494a69"
  },
  "kernelspec": {
   "name": "python3",
   "display_name": "Python 3.8.10 64-bit ('venv': venv)"
  },
  "language_info": {
   "codemirror_mode": {
    "name": "ipython",
    "version": 3
   },
   "file_extension": ".py",
   "mimetype": "text/x-python",
   "name": "python",
   "nbconvert_exporter": "python",
   "pygments_lexer": "ipython3",
   "version": "3.8.10"
  }
 },
 "nbformat": 4,
 "nbformat_minor": 2
}