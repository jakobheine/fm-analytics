{
 "cells": [
  {
   "cell_type": "markdown",
   "source": [
    "**Install python dependencies**"
   ],
   "metadata": {}
  },
  {
   "cell_type": "code",
   "execution_count": 3,
   "source": [
    "!pip install -q -r ./dependencies/requirements.txt"
   ],
   "outputs": [],
   "metadata": {}
  },
  {
   "cell_type": "markdown",
   "source": [
    "**Load python libraries**"
   ],
   "metadata": {}
  },
  {
   "cell_type": "code",
   "execution_count": 2,
   "source": [
    "from sqlalchemy import create_engine\n",
    "from os import getenv\n",
    "import pandas as pd\n",
    "import dask.dataframe as dd\n",
    "from datetime import datetime\n",
    "import smart_match\n",
    "\n",
    "pd.options.mode.chained_assignment = None  # default='warn'"
   ],
   "outputs": [],
   "metadata": {}
  },
  {
   "cell_type": "markdown",
   "source": [
    "**Connect to database**"
   ],
   "metadata": {}
  },
  {
   "cell_type": "code",
   "execution_count": 5,
   "source": [
    "db_name = getenv(\"POSTGRES_DB\")\n",
    "db_user = getenv(\"POSTGRES_USER\")\n",
    "db_pass = getenv(\"POSTGRES_PASSWORD\")\n",
    "db_host = 'localhost'\n",
    "db_port = '5432'\n",
    "db_string = 'postgresql://{}:{}@{}:{}/{}'.format(db_user, db_pass, db_host, db_port, db_name)\n",
    "db = create_engine(db_string)"
   ],
   "outputs": [],
   "metadata": {}
  },
  {
   "cell_type": "markdown",
   "source": [
    "**Preprocess Data: Event Data**"
   ],
   "metadata": {}
  },
  {
   "cell_type": "code",
   "execution_count": 111,
   "source": [
    "# getting event data from database\n",
    "db_response = db.execute(\n",
    "    f\"\"\"select  (coalesce(p.first_name, '') || ' ' ||coalesce(p.last_name, '')) as name,\n",
    "       position,\n",
    "       club_id,\n",
    "       number as matchday,\n",
    "       type as event_type,\n",
    "       count(*) from events\n",
    "        inner join matchdays m on events.matchday_id = m.id\n",
    "        inner join players p on events.player_id = p.id\n",
    "    where corrected is false\n",
    "    group by name, position, matchday, event_type, club_id\n",
    "    order by name, matchday,  event_type\n",
    "    \"\"\"\n",
    ")\n",
    "\n",
    "df_event = pd.DataFrame(db_response.fetchall())\n",
    "df_event.columns = db_response.keys()\n",
    "\n",
    "df_event"
   ],
   "outputs": [
    {
     "output_type": "execute_result",
     "data": {
      "text/plain": [
       "             name  position                               club_id  matchday  \\\n",
       "0           Aarón  defender  e6c49a1f-35e4-5c77-b845-c71eb4dea7ce         3   \n",
       "1           Aarón  defender  e6c49a1f-35e4-5c77-b845-c71eb4dea7ce         3   \n",
       "2           Aarón  defender  e6c49a1f-35e4-5c77-b845-c71eb4dea7ce         3   \n",
       "3           Aarón  defender  e6c49a1f-35e4-5c77-b845-c71eb4dea7ce         3   \n",
       "4           Aarón  defender  e6c49a1f-35e4-5c77-b845-c71eb4dea7ce         3   \n",
       "...           ...       ...                                   ...       ...   \n",
       "74079  Yuya Osako  attacker  4f9c979f-4120-5d67-b1fa-b0e90aeeaba8        34   \n",
       "74080  Yuya Osako  attacker  4f9c979f-4120-5d67-b1fa-b0e90aeeaba8        34   \n",
       "74081  Yuya Osako  attacker  4f9c979f-4120-5d67-b1fa-b0e90aeeaba8        34   \n",
       "74082  Yuya Osako  attacker  4f9c979f-4120-5d67-b1fa-b0e90aeeaba8        34   \n",
       "74083  Yuya Osako  attacker  4f9c979f-4120-5d67-b1fa-b0e90aeeaba8        34   \n",
       "\n",
       "               event_type  count  \n",
       "0            interception      1  \n",
       "1                    pass     10  \n",
       "2                playerOn      1  \n",
       "3        successfulTackle      1  \n",
       "4                 throwIn      2  \n",
       "...                   ...    ...  \n",
       "74079          shotAtGoal      1  \n",
       "74080    successfulTackle      2  \n",
       "74081           superPass      1  \n",
       "74082    unsuccessfulPass      3  \n",
       "74083  unsuccessfulTackle      2  \n",
       "\n",
       "[74084 rows x 6 columns]"
      ],
      "text/html": [
       "<div>\n",
       "<style scoped>\n",
       "    .dataframe tbody tr th:only-of-type {\n",
       "        vertical-align: middle;\n",
       "    }\n",
       "\n",
       "    .dataframe tbody tr th {\n",
       "        vertical-align: top;\n",
       "    }\n",
       "\n",
       "    .dataframe thead th {\n",
       "        text-align: right;\n",
       "    }\n",
       "</style>\n",
       "<table border=\"1\" class=\"dataframe\">\n",
       "  <thead>\n",
       "    <tr style=\"text-align: right;\">\n",
       "      <th></th>\n",
       "      <th>name</th>\n",
       "      <th>position</th>\n",
       "      <th>club_id</th>\n",
       "      <th>matchday</th>\n",
       "      <th>event_type</th>\n",
       "      <th>count</th>\n",
       "    </tr>\n",
       "  </thead>\n",
       "  <tbody>\n",
       "    <tr>\n",
       "      <th>0</th>\n",
       "      <td>Aarón</td>\n",
       "      <td>defender</td>\n",
       "      <td>e6c49a1f-35e4-5c77-b845-c71eb4dea7ce</td>\n",
       "      <td>3</td>\n",
       "      <td>interception</td>\n",
       "      <td>1</td>\n",
       "    </tr>\n",
       "    <tr>\n",
       "      <th>1</th>\n",
       "      <td>Aarón</td>\n",
       "      <td>defender</td>\n",
       "      <td>e6c49a1f-35e4-5c77-b845-c71eb4dea7ce</td>\n",
       "      <td>3</td>\n",
       "      <td>pass</td>\n",
       "      <td>10</td>\n",
       "    </tr>\n",
       "    <tr>\n",
       "      <th>2</th>\n",
       "      <td>Aarón</td>\n",
       "      <td>defender</td>\n",
       "      <td>e6c49a1f-35e4-5c77-b845-c71eb4dea7ce</td>\n",
       "      <td>3</td>\n",
       "      <td>playerOn</td>\n",
       "      <td>1</td>\n",
       "    </tr>\n",
       "    <tr>\n",
       "      <th>3</th>\n",
       "      <td>Aarón</td>\n",
       "      <td>defender</td>\n",
       "      <td>e6c49a1f-35e4-5c77-b845-c71eb4dea7ce</td>\n",
       "      <td>3</td>\n",
       "      <td>successfulTackle</td>\n",
       "      <td>1</td>\n",
       "    </tr>\n",
       "    <tr>\n",
       "      <th>4</th>\n",
       "      <td>Aarón</td>\n",
       "      <td>defender</td>\n",
       "      <td>e6c49a1f-35e4-5c77-b845-c71eb4dea7ce</td>\n",
       "      <td>3</td>\n",
       "      <td>throwIn</td>\n",
       "      <td>2</td>\n",
       "    </tr>\n",
       "    <tr>\n",
       "      <th>...</th>\n",
       "      <td>...</td>\n",
       "      <td>...</td>\n",
       "      <td>...</td>\n",
       "      <td>...</td>\n",
       "      <td>...</td>\n",
       "      <td>...</td>\n",
       "    </tr>\n",
       "    <tr>\n",
       "      <th>74079</th>\n",
       "      <td>Yuya Osako</td>\n",
       "      <td>attacker</td>\n",
       "      <td>4f9c979f-4120-5d67-b1fa-b0e90aeeaba8</td>\n",
       "      <td>34</td>\n",
       "      <td>shotAtGoal</td>\n",
       "      <td>1</td>\n",
       "    </tr>\n",
       "    <tr>\n",
       "      <th>74080</th>\n",
       "      <td>Yuya Osako</td>\n",
       "      <td>attacker</td>\n",
       "      <td>4f9c979f-4120-5d67-b1fa-b0e90aeeaba8</td>\n",
       "      <td>34</td>\n",
       "      <td>successfulTackle</td>\n",
       "      <td>2</td>\n",
       "    </tr>\n",
       "    <tr>\n",
       "      <th>74081</th>\n",
       "      <td>Yuya Osako</td>\n",
       "      <td>attacker</td>\n",
       "      <td>4f9c979f-4120-5d67-b1fa-b0e90aeeaba8</td>\n",
       "      <td>34</td>\n",
       "      <td>superPass</td>\n",
       "      <td>1</td>\n",
       "    </tr>\n",
       "    <tr>\n",
       "      <th>74082</th>\n",
       "      <td>Yuya Osako</td>\n",
       "      <td>attacker</td>\n",
       "      <td>4f9c979f-4120-5d67-b1fa-b0e90aeeaba8</td>\n",
       "      <td>34</td>\n",
       "      <td>unsuccessfulPass</td>\n",
       "      <td>3</td>\n",
       "    </tr>\n",
       "    <tr>\n",
       "      <th>74083</th>\n",
       "      <td>Yuya Osako</td>\n",
       "      <td>attacker</td>\n",
       "      <td>4f9c979f-4120-5d67-b1fa-b0e90aeeaba8</td>\n",
       "      <td>34</td>\n",
       "      <td>unsuccessfulTackle</td>\n",
       "      <td>2</td>\n",
       "    </tr>\n",
       "  </tbody>\n",
       "</table>\n",
       "<p>74084 rows × 6 columns</p>\n",
       "</div>"
      ]
     },
     "metadata": {},
     "execution_count": 111
    }
   ],
   "metadata": {}
  },
  {
   "cell_type": "code",
   "execution_count": 112,
   "source": [
    "# load event_types\n",
    "event_types = ['pass', 'unsuccessfulPass', 'superPass', 'throwIn', 'goalAssist', 'farCorner', 'cross', 'freeKick', 'interception', 'goalMissedFar', 'shotAtGoal', 'unsuccessfulPenalty', 'missedChance', 'goal', 'doublePack', 'hattrick', 'penaltyGoal', 'ownGoal', 'foul','awardedPenalty', 'causedPenalty', 'yellowCard', 'secondYellowCard', 'redCard', 'successfulTackle', 'unsuccessfulTackle', 'blockedGoalShot', 'offside', 'error', 'savedPenalty', 'lostPenalty', 'defended', 'goalAgainst']"
   ],
   "outputs": [],
   "metadata": {}
  },
  {
   "cell_type": "code",
   "execution_count": 146,
   "source": [
    "df_players = df_event.groupby('name')\n",
    "\n",
    "df_final = pd.DataFrame(columns=['name','position','matchday','event_type','count', 'club_id'])\n",
    "\n",
    "# add 0 values\n",
    "for player_tuple in df_players:\n",
    "    player_name = player_tuple[0]\n",
    "    position = player_tuple[1]['position'].max()\n",
    "    club_id = player_tuple[1]['club_id'].max()\n",
    "\n",
    "    df_player = player_tuple[1]\n",
    "\n",
    "    for matchday in range(1,35):\n",
    "        for event_type in event_types:\n",
    "            if df_player.loc[(df_player['matchday'] == matchday) & (df_player['event_type'] == event_type)].empty == True:\n",
    "                df_player = df_player.append({\n",
    "                    'name': player_name, \n",
    "                    'position': position,\n",
    "                    'club_id': club_id,\n",
    "                    'matchday': matchday,\n",
    "                    'event_type': event_type,\n",
    "                    'count': 0\n",
    "                }, ignore_index=True)\n",
    "    \n",
    "    df_final = df_final.append(df_player)\n",
    "\n",
    "df_final.to_csv('./data/events_prep.csv', index=False)"
   ],
   "outputs": [],
   "metadata": {}
  },
  {
   "cell_type": "markdown",
   "source": [
    "**Preprocess Data: Betting Odds**"
   ],
   "metadata": {}
  },
  {
   "cell_type": "code",
   "execution_count": 7,
   "source": [
    "# load odds from csv\n",
    "df_odds_csv = pd.read_csv('./data/odds_20_21.csv')\n",
    "df_odds = df_odds_csv[['Date', 'HomeTeam', 'AwayTeam', 'AvgH', 'AvgD', 'AvgA']]\n",
    "df_odds['Date'] = df_odds['Date'].map(lambda x: datetime.strptime(datetime.strptime(x, \"%d/%m/%Y\").strftime(\"%Y-%m-%d\"), \"%Y-%m-%d\"))\n",
    "df_odds['matchday'] = 0\n",
    "\n",
    "# add matchday to odds\n",
    "df_matchdays_db = pd.read_sql_table('matchdays', db)\n",
    "df_matchdays = df_matchdays_db[['start', 'end', 'number']]\n",
    "df_matchdays['start'] = df_matchdays['start'].map(lambda x: datetime.strptime(x.split('T')[0], \"%Y-%m-%d\"))\n",
    "df_matchdays['end'] = df_matchdays['end'].map(lambda x: datetime.strptime(x.split('T')[0], \"%Y-%m-%d\"))\n",
    "\n",
    "for index, row in df_odds.iterrows():\n",
    "    for index2, row2 in df_matchdays.iterrows():\n",
    "        if row2['start'] <= row['Date'] <= row2['end']:\n",
    "            df_odds.loc[index, 'matchday'] = row2['number']"
   ],
   "outputs": [],
   "metadata": {}
  },
  {
   "cell_type": "code",
   "execution_count": 8,
   "source": [
    "# game odds to win, lose, draw odds per team\n",
    "df_odds_team = pd.DataFrame(columns=['team_name','matchday', 'odds_win','odds_draw','odds_lose'])\n",
    "\n",
    "for index, row in df_odds.iterrows():\n",
    "    df_odds_team = df_odds_team.append({\n",
    "        'team_name': row['HomeTeam'],\n",
    "        'matchday': row['matchday'],\n",
    "        'odds_win': row['AvgH'],\n",
    "        'odds_draw': row['AvgD'],\n",
    "        'odds_lose': row['AvgA'],\n",
    "    } , ignore_index=True)\n",
    "\n",
    "    df_odds_team = df_odds_team.append({\n",
    "        'team_name': row['AwayTeam'],\n",
    "        'matchday': row['matchday'],\n",
    "        'odds_win': row['AvgA'],\n",
    "        'odds_draw': row['AvgD'],\n",
    "        'odds_lose': row['AvgH'],\n",
    "    } , ignore_index=True)"
   ],
   "outputs": [],
   "metadata": {}
  },
  {
   "cell_type": "code",
   "execution_count": 10,
   "source": [
    "# odds team names to club_ids\n",
    "df_teams = pd.read_sql_table('teams', db)\n",
    "\n",
    "def name_to_club_id(name): \n",
    "    most_similar = {'db_club_id': '', 'similarity': 0 }\n",
    "    for index, db_team in df_teams.iterrows():\n",
    "        similarity = smart_match.similarity(db_team['name'], name)\n",
    "        if most_similar['similarity'] < similarity:\n",
    "            most_similar['db_club_id'] = db_team['id']\n",
    "            most_similar['similarity'] = similarity\n",
    "    return most_similar['db_club_id']\n",
    "\n",
    "df_odds_team['club_id'] = df_odds_team['team_name'].map(lambda x: name_to_club_id(x))\n",
    "\n",
    "df_odds_team = df_odds_team.sort_values(by=['matchday', 'club_id'])\n",
    "\n",
    "# df_odds_team.to_csv('./data/odds_prep.csv', index=False)\n",
    "\n",
    "# !!! MANUALLY CHANGE COVID SHIFTED MATCHES !!!"
   ],
   "outputs": [],
   "metadata": {}
  },
  {
   "cell_type": "markdown",
   "source": [
    "**Create data.csv**"
   ],
   "metadata": {}
  },
  {
   "cell_type": "code",
   "execution_count": 5,
   "source": [
    "df_events = pd.read_csv('events_prep.csv')\n",
    "df_odds = pd.read_csv('odds_prep.csv')\n",
    "\n",
    "df = pd.merge(df_events, df_odds)\n",
    "\n",
    "# remove playeron and playeroff\n",
    "df = df.drop(df[df.event_type == 'playerOn'].index)\n",
    "df = df.drop(df[df.event_type == 'playerOff'].index)\n",
    "\n",
    "df.to_csv('./data/data.csv', index=False)"
   ],
   "outputs": [],
   "metadata": {}
  }
 ],
 "metadata": {
  "kernelspec": {
   "name": "python3",
   "display_name": "Python 3.8.10 64-bit ('venv': venv)"
  },
  "language_info": {
   "name": "python",
   "version": "3.8.10",
   "mimetype": "text/x-python",
   "codemirror_mode": {
    "name": "ipython",
    "version": 3
   },
   "pygments_lexer": "ipython3",
   "nbconvert_exporter": "python",
   "file_extension": ".py"
  },
  "metadata": {
   "interpreter": {
    "hash": "74907149d8cf8355762064ff20aca90cf6505446beaf5da5d3df333eff494a69"
   }
  },
  "interpreter": {
   "hash": "74907149d8cf8355762064ff20aca90cf6505446beaf5da5d3df333eff494a69"
  }
 },
 "nbformat": 4,
 "nbformat_minor": 2
}