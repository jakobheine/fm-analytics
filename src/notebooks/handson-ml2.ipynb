{
 "cells": [
  {
   "cell_type": "markdown",
   "source": [
    "# Frame the problem and look at the big picture"
   ],
   "metadata": {}
  },
  {
   "cell_type": "markdown",
   "source": [
    "## 1. Define the objective in business terms.\n",
    "\n",
    "The main goal, in general, is to score as many points as possible. However, a distinction can be made to which values the achieved score should ultimately be compared with. Examples of comparison values would be the maximum achievable score, and the score needed to become number 1 in the SPITCH ranking respectively to reach the profit zone.\n",
    "\n",
    "The main goal, to score as many points as possible, can be divided into two sub-problems. First, the players who are expected to score the most points should be included in the line-up. So the first problem is to find out, or predict as accurately as possible, how many points each player will score. Since only a limited budget is available, attention must be paid to their salaries. Therefore, the second problem is to put the cost of the players in mathematical relation to the points predicted in the first step. These types of optimisation problems are known in combinatorics as knapsack problems: from a set of objects, each having a weight and a utility, a subset has to be selected whose total weight does not exceed a given weight bound and maximises the utility.\n",
    "\n",
    "However, for two main reasons, this is not a classic knapsack problem. Firstly, the budget set by the game can be exceeded, which means that the backpack can carry more weight than the weight bound specifies. However, the manager then starts the matchday with negative points. Vice versa; if the manager does not spend his entire budget, he starts with positive points. These points are called manager points. \n",
    "The second main reason is that this number of positive or negative points can be accurately calculated because there is a linear relationship between manager points and the cost of a player: every €100,000 is worth 0.8 manager points. For this reason, the costs of a player can be subtracted from the points scored, or a threshold of points can be calculated that a player must score to recoup his costs.\n",
    "\n",
    "This calculation simplifies the main problem enormously, as now only these calculated values have to be used to set up the most optimal line-up.\n",
    "The main goal of achieving the maximum score can thus be transformed into the underlying problem: predicting the performance of each individual player as accurately as possible.   "
   ],
   "metadata": {}
  },
  {
   "cell_type": "markdown",
   "source": [
    "## 2. How will your solution be used?\n",
    "\n",
    "The solution is a service that predicts the scores of individual players based on various machine learning models and compiles them into the optimal line-up with the help of combinatorial calculations.\n",
    "\n",
    "For the sake of simplicity, this predicted line-up is output as text. This text can then be sent by email or with the help of a Telegram bot, for example. The line-up must then be done manually in the SPITCH app.\n",
    "\n",
    "In the future, the service could also present the predicted line-up visualised on a website or post it as an image on Twitter."
   ],
   "metadata": {}
  },
  {
   "cell_type": "markdown",
   "source": [
    "## **TODO** 3. What are the current solutions/workarounds (if any)?"
   ],
   "metadata": {}
  },
  {
   "cell_type": "markdown",
   "source": [
    "## **TODO** 4. How should you frame this problem (supervised/unsupervised, online/offline, etc.)"
   ],
   "metadata": {}
  },
  {
   "cell_type": "markdown",
   "source": [
    "## **TODO** 5. How should performance be measured?"
   ],
   "metadata": {}
  },
  {
   "cell_type": "markdown",
   "source": [
    "## **TODO** 6. Is the performance measure aligned with the business objective?"
   ],
   "metadata": {}
  },
  {
   "cell_type": "markdown",
   "source": [
    "## **TODO** 7. What would be the minimum performance needed to reach the business objective?"
   ],
   "metadata": {}
  },
  {
   "cell_type": "markdown",
   "source": [
    "## **TODO** 8. What are comparable problems? Can you reuse experience or tools?"
   ],
   "metadata": {}
  },
  {
   "cell_type": "markdown",
   "source": [
    "## **TODO** 9. Is human expertise available?"
   ],
   "metadata": {}
  },
  {
   "cell_type": "markdown",
   "source": [
    "## **TODO** 10. How would you solve the problem manually?"
   ],
   "metadata": {}
  },
  {
   "cell_type": "markdown",
   "source": [
    "## **TODO** 11. List the assumptions you or others have made so far."
   ],
   "metadata": {}
  },
  {
   "cell_type": "markdown",
   "source": [
    "## **TODO** 12. Verify assumptions if possible."
   ],
   "metadata": {}
  },
  {
   "cell_type": "markdown",
   "source": [
    "# Get the data\n",
    "\n",
    "automate as much as possible so you can easily get fresh data."
   ],
   "metadata": {}
  },
  {
   "cell_type": "markdown",
   "source": [
    "## **TODO** 1. List the data you need and how much you need."
   ],
   "metadata": {}
  },
  {
   "cell_type": "markdown",
   "source": [
    "## **TODO** 2. Find and document where you can get that data."
   ],
   "metadata": {}
  },
  {
   "cell_type": "markdown",
   "source": [
    "## **TODO** 3. Check how much space it will take."
   ],
   "metadata": {}
  },
  {
   "cell_type": "markdown",
   "source": [
    "## **TODO** 4. Check legal obligations, and get the authorization if necessary."
   ],
   "metadata": {}
  },
  {
   "cell_type": "markdown",
   "source": [
    "## **TODO** 5. Get access authorizations."
   ],
   "metadata": {}
  },
  {
   "cell_type": "markdown",
   "source": [
    "## **TODO** 6. Create a workspace (with enough storage space)."
   ],
   "metadata": {}
  },
  {
   "cell_type": "markdown",
   "source": [
    "## **TODO** 7. Get the data."
   ],
   "metadata": {}
  },
  {
   "cell_type": "markdown",
   "source": [
    "## **TODO** 8. Convert the data to a format you can easily manipulate (without changing the data itself)."
   ],
   "metadata": {}
  },
  {
   "cell_type": "markdown",
   "source": [
    "## **TODO** 9. Ensure sensitive information is deleted or protected (e.g., anonymized)."
   ],
   "metadata": {}
  },
  {
   "cell_type": "markdown",
   "source": [
    "## **TODO** 10. Check the size and type of data (time series, sample, geographical, etc.)."
   ],
   "metadata": {}
  },
  {
   "cell_type": "markdown",
   "source": [
    "## **TODO** 11. Sample a test set, put it aside, and never look at it (no data snooping!)."
   ],
   "metadata": {}
  },
  {
   "cell_type": "markdown",
   "source": [
    "# Explore the data\n",
    "try to get insights from a field expert for these steps.\n"
   ],
   "metadata": {}
  },
  {
   "cell_type": "markdown",
   "source": [
    "## **TODO** 1. Create a copy of the data for exploration (sampling it down to a manageable size if necessary)."
   ],
   "metadata": {}
  },
  {
   "cell_type": "markdown",
   "source": [
    "## **TODO** 2. Create a Jupyter notebook to keep record of your data exploration."
   ],
   "metadata": {}
  },
  {
   "cell_type": "markdown",
   "source": [
    "## **TODO** 3. Study each attribute and its characteristics: \n",
    "- Name\n",
    "- Type (categorical, int/float, bounded/unbounded, text, structured, etc.)\n",
    "- % of missing values\n",
    "- Noisiness and type of noise (stochastic, outliers, rounding errors, etc.)\n",
    "- Possibly useful for the task?\n",
    "- Type of distribution (Gaussian, uniform, logarithmic, etc.)\n",
    "\n"
   ],
   "metadata": {}
  },
  {
   "cell_type": "markdown",
   "source": [
    "## **TODO** 4. For supervised learning tasks, identify the target attribute(s)."
   ],
   "metadata": {}
  },
  {
   "cell_type": "markdown",
   "source": [
    "## **TODO** 5. Visualize the data."
   ],
   "metadata": {}
  },
  {
   "cell_type": "markdown",
   "source": [
    "## **TODO** 6. Study the correlations between attributes."
   ],
   "metadata": {}
  },
  {
   "cell_type": "markdown",
   "source": [
    "## **TODO** 7. Study how you would solve the problem manually."
   ],
   "metadata": {}
  },
  {
   "cell_type": "markdown",
   "source": [
    "## **TODO** 8. Identify the promising transformations you may want to apply."
   ],
   "metadata": {}
  },
  {
   "cell_type": "markdown",
   "source": [
    "## **TODO** 9. Identify extra data that would be useful (go back to \"Get the Data\" on page 502)."
   ],
   "metadata": {}
  },
  {
   "cell_type": "markdown",
   "source": [
    "## **TODO** 10. Document what you have learned.?"
   ],
   "metadata": {}
  },
  {
   "cell_type": "markdown",
   "source": [
    "# Prepare the data\n",
    "\n",
    "- Work on copies of the data (keep the original dataset intact).\n",
    "- Write functions for all data transformations you apply, for five reasons:\n",
    "    - So you can easily prepare the data the next time you get a fresh dataset\n",
    "    - So you can apply these transformations in future projects\n",
    "    - To clean and prepare the test set\n",
    "    - To clean and prepare new data instances\n",
    "    - To make it easy to treat your preparation choices as hyperparameters\n"
   ],
   "metadata": {}
  },
  {
   "cell_type": "markdown",
   "source": [
    "## **TODO** 1. Data cleaning:\n",
    "- Fix or remove outliers (optional).\n",
    "- Fill in missing values (e.g., with zero, mean, median...) or drop their rows (or columns).\n"
   ],
   "metadata": {}
  },
  {
   "cell_type": "markdown",
   "source": [
    "## **TODO** 2. Feature selection (optional):\n",
    "Drop the attributes that provide no useful information for the task.\n"
   ],
   "metadata": {}
  },
  {
   "cell_type": "markdown",
   "source": [
    "## **TODO** 3. Feature engineering, where appropriates:\n",
    "- Discretize continuous features.\n",
    "- Decompose features (e.g., categorical, date/time, etc.).\n",
    "- Add promising transformations of features (e.g., log(x), sqrt(x), x^2, etc.).\n",
    "- Aggregate features into promising new features."
   ],
   "metadata": {}
  },
  {
   "cell_type": "markdown",
   "source": [
    "## **TODO** 4. Feature scaling: standardize or normalize features."
   ],
   "metadata": {}
  },
  {
   "cell_type": "markdown",
   "source": [
    "# Short-list promising models\n",
    "\n",
    "- If the data is huge, you may want to sample smaller training sets so you can train many different models in a reasonable time (be aware that this penalizes complex models such as large neural nets or Random Forests).\n",
    "- Once again, try to automate these steps as much as possible."
   ],
   "metadata": {}
  },
  {
   "cell_type": "markdown",
   "source": [
    "## **TODO** 1. Train many quick and dirty models from different categories (e.g., linear, naive, Bayes, SVM, Random Forests, neural net, etc.) using standard parameters."
   ],
   "metadata": {}
  },
  {
   "cell_type": "markdown",
   "source": [
    "## **TODO** 2. Measure and compare their performance.\n",
    "\n",
    "For each model, use N-fold cross-validation and compute the mean and standard deviation of their performance.\n"
   ],
   "metadata": {}
  },
  {
   "cell_type": "markdown",
   "source": [
    "## **TODO** 3. Analyze the most significant variables for each algorithm."
   ],
   "metadata": {}
  },
  {
   "cell_type": "markdown",
   "source": [
    "## **TODO** 4. Analyze the types of errors the models make.\n",
    "\n",
    "What data would a human have used to avoid these errors?\n"
   ],
   "metadata": {}
  },
  {
   "cell_type": "markdown",
   "source": [
    "## **TODO** 5. Have a quick round of feature selection and engineering."
   ],
   "metadata": {}
  },
  {
   "cell_type": "markdown",
   "source": [
    "## **TODO** 6. Have one or two more quick iterations of the five previous steps."
   ],
   "metadata": {}
  },
  {
   "cell_type": "markdown",
   "source": [
    "## **TODO** 7. Short-list the top three to five most promising models, preferring models that make different types of errors."
   ],
   "metadata": {}
  },
  {
   "cell_type": "markdown",
   "source": [
    "# Fine-Tune the System\n",
    "\n",
    "You will want to use as much data as possible for this step, especially as you move toward the end of fine-tuning.\n",
    "As always automate what you can.\n",
    "\n",
    "[Don't tweak your model after measuring the generalization error: you would just start overfitting the test set.]\n"
   ],
   "metadata": {}
  },
  {
   "cell_type": "markdown",
   "source": [
    "## **TODO** 1. Fine-tune the hyperparameters using cross-validation.\n",
    "- Treat your data transformation choices as hyperparameters, especially when you are not sure about them (e.g., should I replace missing values with zero or the median value? Or just drop the rows?).\n",
    "- Unless there are very few hyperparamter values to explore, prefer random search over grid search. If training is very long, you may prefer a Bayesian optimization approach (e.g., using a Gaussian process priors, as described by Jasper Snoek, Hugo Larochelle, and Ryan Adams (https://goo.gl/PEFfGr))\n"
   ],
   "metadata": {}
  },
  {
   "cell_type": "markdown",
   "source": [
    "## **TODO** 2. Try Ensemble methods. Combining your best models will often perform better than running them invdividually."
   ],
   "metadata": {}
  },
  {
   "cell_type": "markdown",
   "source": [
    "## **TODO** 3. Once you are confident about your final model, measure its performance on the test set to estimate the generalization error."
   ],
   "metadata": {}
  },
  {
   "cell_type": "markdown",
   "source": [
    "# Present your solution"
   ],
   "metadata": {}
  },
  {
   "cell_type": "markdown",
   "source": [
    "## **TODO** 1. Document what you have done."
   ],
   "metadata": {}
  },
  {
   "cell_type": "markdown",
   "source": [
    "## **TODO** 2. Create a nice presentation.\n",
    "Make sure you highlight the big picture first."
   ],
   "metadata": {}
  },
  {
   "cell_type": "markdown",
   "source": [
    "## **TODO** 3. Explain why your solution achieves the business objective."
   ],
   "metadata": {}
  },
  {
   "cell_type": "markdown",
   "source": [
    "## **TODO** 4. Don't forget to present interesting points you noticed along the way.\n",
    "- Describe what worked and what did not.\n",
    "- List your assumptions and your system's limitations.\n"
   ],
   "metadata": {}
  },
  {
   "cell_type": "markdown",
   "source": [
    "## **TODO** 5. Ensure your key findings are communicated through beautiful visualizations or easy-to-remember statements (e.g., \"the median income is the number-one predictor of housing prices\")."
   ],
   "metadata": {}
  },
  {
   "cell_type": "markdown",
   "source": [
    "# Launch!"
   ],
   "metadata": {}
  },
  {
   "cell_type": "markdown",
   "source": [
    "## **TODO** 1. Get your solution ready for production (plug into production data inputs, write unit tests, etc.)."
   ],
   "metadata": {}
  },
  {
   "cell_type": "markdown",
   "source": [
    "## **TODO** 2. Write monitoring code to check your system's live performance at regular intervals and trigger alerts when it drops.\n",
    "- Beware of slow degradation too: models tend to \"rot\" as data evolves.\n",
    "- Measuring performance may require a human pipeline (e.g., via a crowdsourcing service).\n",
    "- Also monitor your inputs' quality (e.g., a malfunctioning sensor sending random values, or another team's output becoming stale). This is particulary important for online learning systems.\n"
   ],
   "metadata": {}
  },
  {
   "cell_type": "markdown",
   "source": [
    "## **TODO** 3. Retrain your models on a regular basis on fresh data (automate as much as possible)."
   ],
   "metadata": {}
  }
 ],
 "metadata": {
  "orig_nbformat": 4,
  "language_info": {
   "name": "python"
  }
 },
 "nbformat": 4,
 "nbformat_minor": 2
}