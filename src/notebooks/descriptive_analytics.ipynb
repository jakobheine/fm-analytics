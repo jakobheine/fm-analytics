{
 "cells": [
  {
   "cell_type": "markdown",
   "source": [
    "**Install python dependencies**"
   ],
   "metadata": {}
  },
  {
   "cell_type": "code",
   "execution_count": null,
   "source": [
    "!pip install -q -r ./dependencies/requirements.txt"
   ],
   "outputs": [],
   "metadata": {}
  },
  {
   "cell_type": "markdown",
   "source": [
    "**Load python libraries**"
   ],
   "metadata": {}
  },
  {
   "cell_type": "code",
   "execution_count": null,
   "source": [
    "import pandas as pd\n",
    "from tqdm import tqdm\n",
    "import numpy as np\n",
    "from sklearn import preprocessing\n",
    "import seaborn as sns\n",
    "import matplotlib.pyplot as plt"
   ],
   "outputs": [],
   "metadata": {}
  },
  {
   "cell_type": "markdown",
   "source": [
    "**Load Data**"
   ],
   "metadata": {}
  },
  {
   "cell_type": "code",
   "execution_count": null,
   "source": [
    "df = pd.read_csv('./data/data_final_score_all_events.csv')\n",
    "\n",
    "# load event_types\n",
    "event_types = ['pass', 'unsuccessfulPass', 'superPass', 'throwIn', 'goalAssist', 'farCorner', 'cross', 'freeKick', 'interception', 'goalMissedFar', 'shotAtGoal', 'unsuccessfulPenalty', 'missedChance', 'goal', 'doublePack', 'hattrick', 'penaltyGoal', 'ownGoal', 'foul','awardedPenalty', 'causedPenalty', 'yellowCard', 'secondYellowCard', 'redCard', 'successfulTackle', 'unsuccessfulTackle', 'blockedGoalShot', 'offside', 'error', 'savedPenalty', 'lostPenalty', 'defended', 'goalAgainst']\n",
    "points_catalogue = [['pass', 2], ['unsuccessfulPass', -2], ['superPass', 12], ['throwIn', 2], ['goalAssist', 100], ['farCorner', 12], ['cross', 18], ['freeKick', 12], ['interception', 15], ['goalMissedFar', -20], ['shotAtGoal', 50], ['unsuccessfulPenalty', -60], ['missedChance', -40], ['goal', 200], ['doublePack', 50], ['hattrick', 100], ['penaltyGoal', 120], ['ownGoal', -60], ['foul', -15], ['awardedPenalty', 60], ['causedPenalty', -40], ['yellowCard', -30], ['secondYellowCard', -60], ['redCard', -80], ['successfulTackle', 15], ['unsuccessfulTackle', -10], ['blockedGoalShot', 20], ['offside', -15], ['error', -40], ['savedPenalty', 200], ['lostPenalty', -20], ['defended', 40], ['goalAgainst', -25]]\n",
    "\n",
    "# event_types = ['successfulTackle', 'pass', 'interception', 'unsuccessfulTackle', 'shotAtGoal', 'superPass', 'unsuccessfulPass', 'foul']\n",
    "# points_catalogue = [['pass', 2], ['unsuccessfulPass', -2], ['superPass', 12], ['interception', 15], ['shotAtGoal', 50], ['successfulTackle', 15], ['unsuccessfulTackle', -10], ['foul', -15]]"
   ],
   "outputs": [],
   "metadata": {}
  },
  {
   "cell_type": "markdown",
   "source": [
    "**Calculate final scores**"
   ],
   "metadata": {}
  },
  {
   "cell_type": "code",
   "execution_count": null,
   "source": [
    "df_final_scores = pd.DataFrame(columns=['name', 'position', 'club_name', 'matchday', 'is_home', 'odds_win', 'odds_draw', 'odds_lose', 'final_score'])\n",
    "\n",
    "for player_name, df_player in tqdm(df.groupby(\"name\")):\n",
    "    for matchday, df_matchday in df_player.groupby(\"matchday\"):\n",
    "\n",
    "        points_dict = {\n",
    "            'name': player_name, \n",
    "            'position': df_matchday['position'].max(),\n",
    "            'club_name': df_matchday['team_name'].max(),\n",
    "            'matchday': matchday,\n",
    "            'is_home': df_matchday['is_home'].max(),\n",
    "            'odds_win': df_matchday['odds_win'].max(),\n",
    "            'odds_draw': df_matchday['odds_draw'].max(),\n",
    "            'odds_lose': df_matchday['odds_lose'].max()\n",
    "        }\n",
    "\n",
    "        final_score = 0\n",
    "\n",
    "        for event_type, event_points in points_catalogue:\n",
    "            value = df_matchday.loc[df_matchday['event_type'] == event_type]['occurences'].values[0]\n",
    "            event_result = value * event_points\n",
    "            # points_dict[event_type] = int(event_result)\n",
    "\n",
    "            final_score = final_score + event_result\n",
    "\n",
    "        points_dict['final_score'] = final_score\n",
    "\n",
    "        if df_matchday['occurences'].sum() != 0:\n",
    "            df_final_scores = df_final_scores.append(points_dict, ignore_index=True)\n",
    "\n",
    "df_final_scores"
   ],
   "outputs": [],
   "metadata": {}
  },
  {
   "cell_type": "markdown",
   "source": [
    "**Process Data**"
   ],
   "metadata": {}
  },
  {
   "cell_type": "code",
   "execution_count": null,
   "source": [
    "min_max_scaler = preprocessing.MinMaxScaler()\n",
    "\n",
    "df_final_scores[\"is_home\"] = df_final_scores[\"is_home\"].astype(bool)\n",
    "df_final_scores[\"matchday\"] = df_final_scores[\"matchday\"].astype(int)\n",
    "df_final_scores[\"final_score\"] = df_final_scores[\"final_score\"].astype(int)\n",
    "\n",
    "# df_scaled = pd.DataFrame(min_max_scaler.fit_transform(df_final_scores[['final_score', 'odds_win', \"odds_draw\", \"odds_lose\"]]), columns=['final_score', 'odds_win', \"odds_draw\", \"odds_lose\"])\n",
    "\n",
    "# df_scaled\n",
    "\n",
    "df_final_scores"
   ],
   "outputs": [],
   "metadata": {}
  },
  {
   "cell_type": "markdown",
   "source": [
    "**Correlation matrix for difference hierachies**"
   ],
   "metadata": {}
  },
  {
   "cell_type": "code",
   "execution_count": null,
   "source": [
    "df_fcb = df_final_scores.loc[df_final_scores['club_name'] == 'Bayern Munich']\n",
    "\n",
    "sums = df_fcb.groupby(\"matchday\")['final_score'].sum()\n",
    "odds = df_fcb.groupby(\"matchday\")[['odds_win', 'odds_draw', 'odds_lose']].mean()\n",
    "\n",
    "df_fcb_m = pd.merge(sums, odds, left_index=True, right_index=True)\n",
    "\n",
    "df_fcb_m_scaled = pd.DataFrame(min_max_scaler.fit_transform(df_fcb_m), columns=df_fcb_m.columns)\n",
    "\n",
    "df_fcb_m_scaled[['final_score', 'odds_lose']].plot.line()\n",
    "\n",
    "plt.figure(figsize=(12,10))\n",
    "sns.heatmap(df_fcb_m_scaled.corr(), annot=True, cmap=plt.cm.Reds)\n",
    "plt.show()\n"
   ],
   "outputs": [],
   "metadata": {}
  },
  {
   "cell_type": "code",
   "execution_count": null,
   "source": [
    "sums = df_final_scores.groupby([\"club_name\", \"matchday\"])['final_score'].sum()\n",
    "odds = df_final_scores.groupby([\"club_name\", \"matchday\"])[['odds_win', 'odds_draw', 'odds_lose']].mean()\n",
    "\n",
    "df_fs = pd.merge(sums, odds, left_index=True, right_index=True)\n",
    "\n",
    "df_fs_scaled = pd.DataFrame(min_max_scaler.fit_transform(df_fs), columns=df_fs.columns)\n",
    "\n",
    "plt.figure(figsize=(12,10))\n",
    "sns.heatmap(df_fs_scaled.corr(), annot=True, cmap=plt.cm.Reds)\n",
    "plt.show()"
   ],
   "outputs": [],
   "metadata": {}
  },
  {
   "cell_type": "code",
   "execution_count": null,
   "source": [
    "df_rl9 = df_final_scores.loc[df_final_scores['name'] == 'Robert Lewandowski']\n",
    "\n",
    "df_rl9.set_index('matchday', inplace=True)\n",
    "\n",
    "df_rl9_scaled = pd.DataFrame(min_max_scaler.fit_transform(df_rl9[['final_score', 'odds_win', \"odds_draw\", \"odds_lose\"]]), columns=['final_score', 'odds_win', \"odds_draw\", \"odds_lose\"])\n",
    "\n",
    "# df_rl9_scaled[['final_score', 'odds_lose']].plot.line()\n",
    "\n",
    "plt.figure(figsize=(12,10))\n",
    "sns.heatmap(df_rl9_scaled.corr(), annot=True, cmap=plt.cm.Reds)\n",
    "plt.show()"
   ],
   "outputs": [],
   "metadata": {}
  },
  {
   "cell_type": "markdown",
   "source": [
    "**Calculate % from event score to final score**"
   ],
   "metadata": {}
  },
  {
   "cell_type": "code",
   "execution_count": null,
   "source": [
    "for event_type in tqdm(event_types):\n",
    "    for index, row in df_final_scores.iterrows():\n",
    "            df_final_scores.loc[index, event_type + '_in_%'] = round(row[event_type] / row['final_score'] if row['final_score'] else 0, 3)"
   ],
   "outputs": [],
   "metadata": {}
  },
  {
   "cell_type": "markdown",
   "source": [
    "**Reduce data to player above average 50 points per matchday**"
   ],
   "metadata": {}
  },
  {
   "cell_type": "code",
   "execution_count": null,
   "source": [
    "df_total_scores = df_final_scores.groupby('name')['final_score'].sum()\n",
    "\n",
    "series_total_1700 = df_total_scores.loc[df_total_scores > 34 * 50]\n",
    "\n",
    "names_over_1700 = series_total_1700.index.tolist()\n",
    "\n",
    "series_total_1700.to_csv('./data/names_1700.csv')\n"
   ],
   "outputs": [],
   "metadata": {}
  },
  {
   "cell_type": "markdown",
   "source": [
    "**Reduce data to events above average % of final_score**"
   ],
   "metadata": {}
  },
  {
   "cell_type": "code",
   "execution_count": null,
   "source": [
    "df_percent = df_total_1700.loc[:, df_total_1700.columns.str.endswith('_in_%')]\n",
    "\n",
    "df_percent.sum().abs().sort_values(ascending=False)\n",
    "\n",
    "df_over_5_percent = df_percent.mean().abs().loc[df_percent.mean().abs() >  0.05]\n",
    "\n",
    "over_5_percent_list = df_over_5_percent.sort_values(ascending=False).index.tolist()"
   ],
   "outputs": [],
   "metadata": {}
  }
 ],
 "metadata": {
  "interpreter": {
   "hash": "74907149d8cf8355762064ff20aca90cf6505446beaf5da5d3df333eff494a69"
  },
  "kernelspec": {
   "name": "python3",
   "display_name": "Python 3.8.10 64-bit ('venv': venv)"
  },
  "language_info": {
   "codemirror_mode": {
    "name": "ipython",
    "version": 3
   },
   "file_extension": ".py",
   "mimetype": "text/x-python",
   "name": "python",
   "nbconvert_exporter": "python",
   "pygments_lexer": "ipython3",
   "version": "3.8.10"
  }
 },
 "nbformat": 4,
 "nbformat_minor": 2
}