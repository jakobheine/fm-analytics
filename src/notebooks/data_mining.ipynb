{
 "cells": [
  {
   "cell_type": "markdown",
   "source": [
    "**Install python dependencies**"
   ],
   "metadata": {}
  },
  {
   "cell_type": "code",
   "execution_count": 1,
   "source": [
    "!pip install -q -r ./requirements.txt"
   ],
   "outputs": [],
   "metadata": {}
  },
  {
   "cell_type": "markdown",
   "source": [
    "**Load python libraries**"
   ],
   "metadata": {}
  },
  {
   "cell_type": "code",
   "execution_count": 2,
   "source": [
    "from sqlalchemy import create_engine\r\n",
    "from os import getenv\r\n",
    "import pandas as pd"
   ],
   "outputs": [],
   "metadata": {}
  },
  {
   "cell_type": "markdown",
   "source": [
    "**Connect to database**"
   ],
   "metadata": {}
  },
  {
   "cell_type": "code",
   "execution_count": 3,
   "source": [
    "db_name = getenv(\"POSTGRES_DB\")\r\n",
    "db_user = getenv(\"POSTGRES_USER\")\r\n",
    "db_pass = getenv(\"POSTGRES_PASSWORD\")\r\n",
    "db_host = 'localhost'\r\n",
    "db_port = '5432'\r\n",
    "db_string = 'postgresql://{}:{}@{}:{}/{}'.format(db_user, db_pass, db_host, db_port, db_name)\r\n",
    "db = create_engine(db_string)"
   ],
   "outputs": [],
   "metadata": {}
  },
  {
   "cell_type": "markdown",
   "source": [
    "**Preprocess Data: Event Data**"
   ],
   "metadata": {}
  },
  {
   "cell_type": "code",
   "execution_count": 5,
   "source": [
    "# getting event data from database\r\n",
    "db_response = db.execute(\r\n",
    "    f\"\"\"select  (coalesce(p.first_name, '') || ' ' ||coalesce(p.last_name, '')) as name,\r\n",
    "       position,\r\n",
    "       number as matchday,\r\n",
    "       type as event_type,\r\n",
    "       count(*) from events\r\n",
    "        inner join matchdays m on events.matchday_id = m.id\r\n",
    "        inner join players p on events.player_id = p.id\r\n",
    "    where corrected is false\r\n",
    "    group by name, position, matchday, event_type\r\n",
    "    order by name, matchday,  event_type\r\n",
    "    \"\"\"\r\n",
    ")\r\n",
    "\r\n",
    "df_event = pd.DataFrame(db_response.fetchall())\r\n",
    "df_event.columns = db_response.keys()\r\n",
    "\r\n",
    "df_event"
   ],
   "outputs": [
    {
     "output_type": "execute_result",
     "data": {
      "text/plain": [
       "             name  position  matchday          event_type  count\n",
       "0           Aarón  defender         3        interception      1\n",
       "1           Aarón  defender         3                pass     10\n",
       "2           Aarón  defender         3            playerOn      1\n",
       "3           Aarón  defender         3    successfulTackle      1\n",
       "4           Aarón  defender         3             throwIn      2\n",
       "...           ...       ...       ...                 ...    ...\n",
       "72211  Yuya Osako  attacker        34          shotAtGoal      1\n",
       "72212  Yuya Osako  attacker        34    successfulTackle      2\n",
       "72213  Yuya Osako  attacker        34           superPass      1\n",
       "72214  Yuya Osako  attacker        34    unsuccessfulPass      3\n",
       "72215  Yuya Osako  attacker        34  unsuccessfulTackle      2\n",
       "\n",
       "[72216 rows x 5 columns]"
      ],
      "text/html": [
       "<div>\n",
       "<style scoped>\n",
       "    .dataframe tbody tr th:only-of-type {\n",
       "        vertical-align: middle;\n",
       "    }\n",
       "\n",
       "    .dataframe tbody tr th {\n",
       "        vertical-align: top;\n",
       "    }\n",
       "\n",
       "    .dataframe thead th {\n",
       "        text-align: right;\n",
       "    }\n",
       "</style>\n",
       "<table border=\"1\" class=\"dataframe\">\n",
       "  <thead>\n",
       "    <tr style=\"text-align: right;\">\n",
       "      <th></th>\n",
       "      <th>name</th>\n",
       "      <th>position</th>\n",
       "      <th>matchday</th>\n",
       "      <th>event_type</th>\n",
       "      <th>count</th>\n",
       "    </tr>\n",
       "  </thead>\n",
       "  <tbody>\n",
       "    <tr>\n",
       "      <th>0</th>\n",
       "      <td>Aarón</td>\n",
       "      <td>defender</td>\n",
       "      <td>3</td>\n",
       "      <td>interception</td>\n",
       "      <td>1</td>\n",
       "    </tr>\n",
       "    <tr>\n",
       "      <th>1</th>\n",
       "      <td>Aarón</td>\n",
       "      <td>defender</td>\n",
       "      <td>3</td>\n",
       "      <td>pass</td>\n",
       "      <td>10</td>\n",
       "    </tr>\n",
       "    <tr>\n",
       "      <th>2</th>\n",
       "      <td>Aarón</td>\n",
       "      <td>defender</td>\n",
       "      <td>3</td>\n",
       "      <td>playerOn</td>\n",
       "      <td>1</td>\n",
       "    </tr>\n",
       "    <tr>\n",
       "      <th>3</th>\n",
       "      <td>Aarón</td>\n",
       "      <td>defender</td>\n",
       "      <td>3</td>\n",
       "      <td>successfulTackle</td>\n",
       "      <td>1</td>\n",
       "    </tr>\n",
       "    <tr>\n",
       "      <th>4</th>\n",
       "      <td>Aarón</td>\n",
       "      <td>defender</td>\n",
       "      <td>3</td>\n",
       "      <td>throwIn</td>\n",
       "      <td>2</td>\n",
       "    </tr>\n",
       "    <tr>\n",
       "      <th>...</th>\n",
       "      <td>...</td>\n",
       "      <td>...</td>\n",
       "      <td>...</td>\n",
       "      <td>...</td>\n",
       "      <td>...</td>\n",
       "    </tr>\n",
       "    <tr>\n",
       "      <th>72211</th>\n",
       "      <td>Yuya Osako</td>\n",
       "      <td>attacker</td>\n",
       "      <td>34</td>\n",
       "      <td>shotAtGoal</td>\n",
       "      <td>1</td>\n",
       "    </tr>\n",
       "    <tr>\n",
       "      <th>72212</th>\n",
       "      <td>Yuya Osako</td>\n",
       "      <td>attacker</td>\n",
       "      <td>34</td>\n",
       "      <td>successfulTackle</td>\n",
       "      <td>2</td>\n",
       "    </tr>\n",
       "    <tr>\n",
       "      <th>72213</th>\n",
       "      <td>Yuya Osako</td>\n",
       "      <td>attacker</td>\n",
       "      <td>34</td>\n",
       "      <td>superPass</td>\n",
       "      <td>1</td>\n",
       "    </tr>\n",
       "    <tr>\n",
       "      <th>72214</th>\n",
       "      <td>Yuya Osako</td>\n",
       "      <td>attacker</td>\n",
       "      <td>34</td>\n",
       "      <td>unsuccessfulPass</td>\n",
       "      <td>3</td>\n",
       "    </tr>\n",
       "    <tr>\n",
       "      <th>72215</th>\n",
       "      <td>Yuya Osako</td>\n",
       "      <td>attacker</td>\n",
       "      <td>34</td>\n",
       "      <td>unsuccessfulTackle</td>\n",
       "      <td>2</td>\n",
       "    </tr>\n",
       "  </tbody>\n",
       "</table>\n",
       "<p>72216 rows × 5 columns</p>\n",
       "</div>"
      ]
     },
     "metadata": {},
     "execution_count": 5
    }
   ],
   "metadata": {}
  },
  {
   "cell_type": "code",
   "execution_count": 8,
   "source": [
    "# load event_types\r\n",
    "event_types = ['pass', 'unsuccessfulPass', 'superPass', 'throwIn', 'goalAssist', 'farCorner', 'cross', 'freeKick', 'interception', 'goalMissedFar', 'shotAtGoal', 'unsuccessfulPenalty', 'missedChance', 'goal', 'doublePack', 'hattrick', 'penaltyGoal', 'ownGoal', 'foul','awardedPenalty', 'causedPenalty', 'yellowCard', 'secondYellowCard', 'redCard', 'successfulTackle', 'unsuccessfulTackle', 'blockedGoalShot', 'offside', 'error', 'savedPenalty', 'lostPenalty', 'defended', 'goalAgainst',]"
   ],
   "outputs": [
    {
     "output_type": "execute_result",
     "data": {
      "text/plain": [
       "33"
      ]
     },
     "metadata": {},
     "execution_count": 8
    }
   ],
   "metadata": {}
  },
  {
   "cell_type": "code",
   "execution_count": 13,
   "source": [
    "df_players = df_event.groupby('name')\r\n",
    "\r\n",
    "for player_tuple in df_players:\r\n",
    "    player_name = player_tuple[0]\r\n",
    "    position = player_tuple[1]['position'].max()\r\n",
    "\r\n",
    "    df_player = player_tuple[1] \r\n",
    "\r\n",
    "    df_player_type = df_player.groupby('event_type')\r\n",
    "\r\n",
    "    for player_type_tuple in df_player_type:\r\n",
    "        print(player_type_tuple[0])\r\n",
    "        print(player_type_tuple[1])\r\n",
    "\r\n",
    "    \"\"\" for event_type in event_types:\r\n",
    "\r\n",
    "\r\n",
    "    for matchday in range(1,34):\r\n",
    "        if df_player.loc[df_player['matchday'] == matchday].empty == True:\r\n",
    "            for event_type in event_types:\r\n",
    "                df_player = df_player.append({\r\n",
    "                    'name': player_name, \r\n",
    "                    'position': position,\r\n",
    "                    'matchday': matchday,\r\n",
    "                    'event_type': event_type,\r\n",
    "                    'count': 0\r\n",
    "                }, ignore_index=True)\r\n",
    "        \r\n",
    "        if df_player.loc[df_player['matchday'] == matchday].empty == False: \"\"\"\r\n",
    "\r\n",
    "\r\n"
   ],
   "outputs": [],
   "metadata": {}
  }
 ],
 "metadata": {
  "kernelspec": {
   "name": "python3",
   "display_name": "Python 3.7.4 64-bit ('base': conda)"
  },
  "language_info": {
   "name": "python",
   "version": "3.7.4",
   "mimetype": "text/x-python",
   "codemirror_mode": {
    "name": "ipython",
    "version": 3
   },
   "pygments_lexer": "ipython3",
   "nbconvert_exporter": "python",
   "file_extension": ".py"
  },
  "metadata": {
   "interpreter": {
    "hash": "74907149d8cf8355762064ff20aca90cf6505446beaf5da5d3df333eff494a69"
   }
  },
  "interpreter": {
   "hash": "e74f24eea50f229f7e3a448f60e6b04bdfa1c99663321be25fd1c5c5b2f2c3c1"
  }
 },
 "nbformat": 4,
 "nbformat_minor": 2
}