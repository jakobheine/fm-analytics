{
 "cells": [
  {
   "cell_type": "markdown",
   "metadata": {},
   "source": [
    "**Install python dependencies**"
   ]
  },
  {
   "cell_type": "code",
   "execution_count": 1,
   "metadata": {},
   "outputs": [
    {
     "name": "stdout",
     "output_type": "stream",
     "text": [
      "\u001b[33mWARNING: You are using pip version 21.1.1; however, version 21.1.2 is available.\n",
      "You should consider upgrading via the '/home/jakob/dev/fm-analytics/src/notebooks/venv/bin/python3 -m pip install --upgrade pip' command.\u001b[0m\n"
     ]
    }
   ],
   "source": [
    "!pip install -q -r ./requirements.txt"
   ]
  },
  {
   "cell_type": "markdown",
   "metadata": {},
   "source": [
    "**Load python libraries**"
   ]
  },
  {
   "cell_type": "code",
   "execution_count": 2,
   "metadata": {},
   "outputs": [],
   "source": [
    "from sqlalchemy import create_engine\n",
    "from os import getenv\n",
    "import requests\n",
    "import pandas as pd\n",
    "from statistics import median\n",
    "from datetime import datetime\n",
    "import smart_match\n"
   ]
  },
  {
   "cell_type": "markdown",
   "metadata": {},
   "source": [
    "**Connect to database**"
   ]
  },
  {
   "cell_type": "code",
   "execution_count": 3,
   "metadata": {},
   "outputs": [],
   "source": [
    "db_name = getenv(\"POSTGRES_DB\")\n",
    "db_user = getenv(\"POSTGRES_USER\")\n",
    "db_pass = getenv(\"POSTGRES_PASSWORD\")\n",
    "db_host = 'localhost'\n",
    "db_port = '5432'\n",
    "db_string = 'postgresql://{}:{}@{}:{}/{}'.format(db_user, db_pass, db_host, db_port, db_name)\n",
    "db = create_engine(db_string)"
   ]
  },
  {
   "cell_type": "code",
   "execution_count": 4,
   "metadata": {},
   "outputs": [],
   "source": [
    "ODDS_API_URL = \"https://api.the-odds-api.com/v3/odds/\"\n",
    "ODDS_API_KEY = getenv(\"ODDS_API_KEY\")"
   ]
  },
  {
   "cell_type": "code",
   "execution_count": 5,
   "metadata": {},
   "outputs": [],
   "source": [
    "res = requests.get(ODDS_API_URL, params={\n",
    "    'api_key': ODDS_API_KEY,\n",
    "    'region': 'eu',\n",
    "    'sport': 'soccer_germany_bundesliga'\n",
    "})\n",
    "\n",
    "odds = res.json()"
   ]
  },
  {
   "cell_type": "code",
   "execution_count": 6,
   "metadata": {},
   "outputs": [
    {
     "data": {
      "text/html": "<div>\n<style scoped>\n    .dataframe tbody tr th:only-of-type {\n        vertical-align: middle;\n    }\n\n    .dataframe tbody tr th {\n        vertical-align: top;\n    }\n\n    .dataframe thead th {\n        text-align: right;\n    }\n</style>\n<table border=\"1\" class=\"dataframe\">\n  <thead>\n    <tr style=\"text-align: right;\">\n      <th></th>\n      <th>club</th>\n      <th>odd_win</th>\n      <th>odd_lose</th>\n      <th>odd_draw</th>\n    </tr>\n  </thead>\n  <tbody>\n  </tbody>\n</table>\n</div>",
      "text/plain": "Empty DataFrame\nColumns: [club, odd_win, odd_lose, odd_draw]\nIndex: []"
     },
     "execution_count": 6,
     "metadata": {},
     "output_type": "execute_result"
    }
   ],
   "source": [
    "column_names = [\"club\", \"odd_win\", \"odd_lose\", \"odd_draw\"]\n",
    "df_odds = pd.DataFrame(columns = column_names)\n",
    "\n",
    "matches = odds['data']\n",
    "\n",
    "for match in matches:\n",
    "    club_1 = match['teams'][0]\n",
    "    club_2 = match['teams'][1]\n",
    "\n",
    "    odds_club1, odds_club2, odds_draw = [], [], []\n",
    "\n",
    "    betting_sites = match['sites']\n",
    "\n",
    "    for site in betting_sites:\n",
    "        # key can be h2h or h2h_lay\n",
    "        for key in site['odds']:\n",
    "             odds_club1.append(site['odds'][key][0])\n",
    "             odds_club2.append(site['odds'][key][1])\n",
    "             odds_draw.append(site['odds'][key][2])\n",
    "\n",
    "    df_odds = df_odds.append({'club': club_1, 'odd_win': median(odds_club1), 'odd_lose': median(odds_club2), 'odd_draw': median(odds_draw)}, ignore_index=True)\n",
    "    df_odds = df_odds.append({'club': club_2, 'odd_win': median(odds_club2), 'odd_lose': median(odds_club1), 'odd_draw': median(odds_draw)}, ignore_index=True)\n",
    "\n",
    "df_odds"
   ]
  },
  {
   "cell_type": "code",
   "execution_count": 7,
   "metadata": {},
   "outputs": [],
   "source": [
    "df_matchdays = pd.read_sql_table('matchdays', db)\n",
    "current_timestamp = datetime.now(tz=None).isoformat()\n",
    "\n",
    "\n",
    "upcoming_matchday_id = db.execute(f\"\"\"select id from (select min(number) as number from matchdays\n",
    "where start > '2021-05-22T13:29:00Z') sub\n",
    "inner join matchdays m on m.number = sub.number;\"\"\").fetchone()[0]\n",
    "\n",
    "df_odds['matchday_id'] = upcoming_matchday_id"
   ]
  },
  {
   "cell_type": "code",
   "execution_count": 11,
   "metadata": {},
   "outputs": [],
   "source": [
    "df_teams = pd.read_sql_table('teams', db)\n",
    "\n",
    "df_odds['club_id'] = ''\n",
    "\n",
    "for index_odd, odd in df_odds.iterrows():\n",
    "    most_similar = {'db_club_id': '', 'similarity': 0 }\n",
    "    for index_db, db_team in df_teams.iterrows():\n",
    "        odd_name = odd['club']\n",
    "        db_name = db_team['name']\n",
    "        similarity = smart_match.similarity(db_name, odd_name)\n",
    "\n",
    "        if most_similar['similarity'] < similarity:\n",
    "            most_similar['db_club_id'] = db_team['id']\n",
    "            most_similar['similarity'] = similarity\n",
    "\n",
    "    odd['club_id'] = most_similar['db_club_id']\n",
    "    df_odds.iloc[index_odd] = odd\n",
    "\n",
    "\n",
    "df_odds = df_odds[['club_id', 'odd_win', 'odd_lose', 'odd_draw', 'matchday_id']]\n",
    "\n",
    "# df_odds.to_sql('odds', con=db, if_exists='append')\n"
   ]
  },
  {
   "cell_type": "markdown",
   "metadata": {},
   "source": [
    "**Old Linear Regression Code**"
   ]
  },
  {
   "cell_type": "code",
   "execution_count": null,
   "metadata": {},
   "outputs": [],
   "source": [
    "# df_player_type = df_player_type.sort_values(by=['matchday'])\n",
    "\n",
    "\n",
    "# x = np.array(df_player_type['matchday']).reshape((-1, 1))\n",
    "# y = np.array(df_player_type['count'])\n",
    "# model = LinearRegression().fit(x, y)\n",
    "# x_new = np.array(upcoming_matchday).reshape((-1, 1))\n",
    "# y_pred = model.predict(x_new)\n",
    "# pred_int = y_pred[0].round(0).astype(int)"
   ]
  }
 ],
 "metadata": {
  "kernelspec": {
   "display_name": "Python 3.8.5 64-bit ('venv': venv)",
   "name": "pythonjvsc74a57bd074907149d8cf8355762064ff20aca90cf6505446beaf5da5d3df333eff494a69"
  },
  "language_info": {
   "codemirror_mode": {
    "name": "ipython",
    "version": 3
   },
   "file_extension": ".py",
   "mimetype": "text/x-python",
   "name": "python",
   "nbconvert_exporter": "python",
   "pygments_lexer": "ipython3",
   "version": "3.8.5"
  },
  "metadata": {
   "interpreter": {
    "hash": "74907149d8cf8355762064ff20aca90cf6505446beaf5da5d3df333eff494a69"
   }
  },
  "orig_nbformat": 2
 },
 "nbformat": 4,
 "nbformat_minor": 2
}