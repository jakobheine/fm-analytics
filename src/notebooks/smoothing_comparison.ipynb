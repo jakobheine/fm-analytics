{
 "cells": [
  {
   "cell_type": "markdown",
   "source": [
    "**Install python dependencies**"
   ],
   "metadata": {}
  },
  {
   "cell_type": "code",
   "execution_count": null,
   "source": [
    "!pip install -q -r ./dependencies/requirements.txt"
   ],
   "outputs": [],
   "metadata": {}
  },
  {
   "cell_type": "markdown",
   "source": [
    "**Load python libraries**"
   ],
   "metadata": {}
  },
  {
   "cell_type": "code",
   "execution_count": null,
   "source": [
    "import pandas as pd\n",
    "import numpy as np\n",
    "import tensorflow as tf\n",
    "from tensorflow import keras\n",
    "import matplotlib.pyplot as plt\n",
    "import sklearn.metrics as metrics\n",
    "import plotly.express as px\n",
    "\n",
    "%matplotlib inline\n",
    "plt.style.use('seaborn')"
   ],
   "outputs": [],
   "metadata": {}
  },
  {
   "cell_type": "markdown",
   "source": [
    "**Show smoothing methods for Robert Lewandowski passes**"
   ],
   "metadata": {}
  },
  {
   "cell_type": "code",
   "execution_count": null,
   "source": [
    "df = pd.read_csv('./data/data_rl9_pass.csv')\n",
    "\n",
    "df['occurences'] = df['count']\n",
    "\n",
    "df = df[['name', 'matchday', 'event_type', 'occurences']]\n",
    "\n",
    "df.set_index('matchday', inplace=True)\n",
    "\n",
    "df.plot(color='green', linewidth=3, figsize=(12,6))"
   ],
   "outputs": [],
   "metadata": {}
  },
  {
   "cell_type": "code",
   "execution_count": null,
   "source": [
    "# simple moving average of 5 and 10\n",
    "df['SMA_5'] = df.occurences.rolling(5, min_periods=1).mean()\n",
    "df['SMA_10'] = df.occurences.rolling(10, min_periods=1).mean()\n",
    "\n",
    "colors = ['green', 'red', 'purple']\n",
    "\n",
    "df[['occurences', 'SMA_5', 'SMA_10']].plot(color=colors, linewidth=3, figsize=(12,6))\n",
    "# --> SMA_5\n"
   ],
   "outputs": [],
   "metadata": {}
  },
  {
   "cell_type": "code",
   "execution_count": null,
   "source": [
    "# cumulative moving average\n",
    "df['CMA'] = df.occurences.expanding().mean()\n",
    "\n",
    "colors = ['green', 'orange']\n",
    "\n",
    "df[['occurences', 'CMA']].plot(color=colors, linewidth=3, figsize=(12,6))"
   ],
   "outputs": [],
   "metadata": {}
  },
  {
   "cell_type": "code",
   "execution_count": null,
   "source": [
    "# exponential moving average with different alphas\n",
    "df['EMA_0.1'] = df.occurences.ewm(alpha=0.1, adjust=False).mean()\n",
    "df['EMA_0.3'] = df.occurences.ewm(alpha=0.3, adjust=False).mean()\n",
    "df['EMA_0.5'] = df.occurences.ewm(alpha=0.5, adjust=False).mean()\n",
    "\n",
    "colors = ['green', 'blue', 'orchid', 'pink']\n",
    "\n",
    "df[['occurences', 'EMA_0.1', 'EMA_0.3', 'EMA_0.5']].plot(color=colors, linewidth=3, figsize=(12,6), alpha=0.8)\n",
    "# --> EMA_0.5"
   ],
   "outputs": [],
   "metadata": {}
  },
  {
   "cell_type": "code",
   "execution_count": null,
   "source": [
    "# compare averages\n",
    "colors = ['green', 'red', 'orange', 'orchid']\n",
    "\n",
    "df[['occurences', 'SMA_5', 'CMA', 'EMA_0.5']].plot(color=colors, linewidth=3, figsize=(12,6), alpha=0.8)\n",
    "\n",
    "# --> EMA_0.5\n"
   ],
   "outputs": [],
   "metadata": {}
  },
  {
   "cell_type": "markdown",
   "source": [
    "**Calculate Smoothing Accuracy**"
   ],
   "metadata": {}
  },
  {
   "cell_type": "code",
   "execution_count": null,
   "source": [
    "def calculate_averages(df):\n",
    "    df['occurences'] = df['count']\n",
    "    df.set_index('matchday', inplace=True)\n",
    "\n",
    "    # simple moving average of 5 and 10\n",
    "    df['SMA_5'] = df.occurences.rolling(5, min_periods=1).mean()\n",
    "    df['SMA_10'] = df.occurences.rolling(10, min_periods=1).mean()\n",
    "\n",
    "    # cumulative moving average\n",
    "    df['CMA'] = df.occurences.expanding().mean()\n",
    "\n",
    "    # exponential moving average with different alphas\n",
    "    df['EMA_0.1'] = df.occurences.ewm(alpha=0.1, adjust=False).mean()\n",
    "    df['EMA_0.3'] = df.occurences.ewm(alpha=0.3, adjust=False).mean()\n",
    "    df['EMA_0.5'] = df.occurences.ewm(alpha=0.5, adjust=False).mean()\n",
    "\n",
    "    return df\n",
    "\n",
    "def calculate_regression_accuracies(df, df_reg_acc, columns):\n",
    "\n",
    "    player_name = df['name'].max()\n",
    "    event_type = df['event_type'].max()\n",
    "\n",
    "    for column in columns:\n",
    "        pred_column_name = column + '_pred'\n",
    "        df[pred_column_name] = df[column].shift(1)\n",
    "\n",
    "        # drop first 10 rows, learning\n",
    "        df_pred = df.tail(df.index.max() - 10)\n",
    "\n",
    "        occurences = df_pred['occurences'].to_numpy()\n",
    "        predictions = df_pred[pred_column_name].to_numpy()\n",
    "\n",
    "        mae = metrics.mean_absolute_error(occurences, predictions)\n",
    "        mse = metrics.mean_squared_error(occurences, predictions)\n",
    "        rmse = np.sqrt(mse) \n",
    "        r2 = metrics.r2_score(occurences, predictions)\n",
    "\n",
    "        df_reg_acc = df_reg_acc.append({'player_name': player_name, 'event_type': event_type, 'Regression': column, 'MAE': mae, 'MSE': mse, 'RMSE': rmse, 'R-Squared': r2}, ignore_index=True)\n",
    "\n",
    "    return df_reg_acc"
   ],
   "outputs": [],
   "metadata": {}
  },
  {
   "cell_type": "code",
   "execution_count": null,
   "source": [
    "df = pd.read_csv('./data/data.csv')\n",
    "\n",
    "df.head(5)"
   ],
   "outputs": [],
   "metadata": {}
  },
  {
   "cell_type": "code",
   "execution_count": null,
   "source": [
    "df_reg_acc = pd.DataFrame(columns= ['player_name', 'event_type', 'Regression', 'MAE', 'MSE', 'RMSE', 'R-Squared'])\n",
    "columns = ['SMA_5', 'SMA_10', 'CMA', 'EMA_0.1', 'EMA_0.3', 'EMA_0.5', 'occurences']\n",
    "\n",
    "# drop betting odds\n",
    "df = df[['name', 'matchday', 'event_type', 'count']]\n",
    "\n",
    "df_players = df.groupby(\"name\")\n",
    "\n",
    "for player_tuple in df_players:\n",
    "    player_name = player_tuple[0]\n",
    "    df_player = player_tuple[1]\n",
    "\n",
    "    df_player = df_player.sort_values(by=['matchday', 'event_type'])\n",
    "\n",
    "    df_events = df_player.groupby(\"event_type\")\n",
    "    \n",
    "    for event_tuple in df_events:\n",
    "        event_name = event_tuple[0]\n",
    "        df_event = event_tuple[1]\n",
    "\n",
    "        df_event = calculate_averages(df_event)\n",
    "        df_reg_acc = calculate_regression_accuracies(df_event, df_reg_acc, columns)\n",
    "\n",
    "df_reg_acc.to_csv('./data/reg_acc.csv')"
   ],
   "outputs": [],
   "metadata": {}
  },
  {
   "cell_type": "code",
   "execution_count": null,
   "source": [
    "df_reg_acc = pd.read_csv('reg_acc.csv')\n",
    "\n",
    "# drop 0 rows\n",
    "df_reg_acc = df_reg_acc.drop(df_reg_acc[(df_reg_acc.MAE == 0) & (df_reg_acc.MSE == 0) & (df_reg_acc.RMSE == 0) & (df_reg_acc['R-Squared'] == 1)].index)\n",
    "\n",
    "df_reg_acc = df_reg_acc[['player_name' ,'event_type','Regression','MAE','MSE','RMSE','R-Squared']]\n",
    "\n",
    "# df_reg_acc.groupby([\"event_type\", \"Regression\"]).median()\n",
    "\n",
    "df_pass_r = df_reg_acc.loc[df_reg_acc['event_type'] == 'pass'][['player_name', 'Regression', 'R-Squared']]\n",
    "\n",
    "fig = px.box(df_pass_r, x=\"Regression\", y=\"R-Squared\")\n",
    "fig.update_layout(yaxis_range=[-1,1])\n",
    "fig.show()"
   ],
   "outputs": [],
   "metadata": {}
  }
 ],
 "metadata": {
  "interpreter": {
   "hash": "74907149d8cf8355762064ff20aca90cf6505446beaf5da5d3df333eff494a69"
  },
  "kernelspec": {
   "name": "python3",
   "display_name": "Python 3.8.10 64-bit ('venv': venv)"
  },
  "language_info": {
   "codemirror_mode": {
    "name": "ipython",
    "version": 3
   },
   "file_extension": ".py",
   "mimetype": "text/x-python",
   "name": "python",
   "nbconvert_exporter": "python",
   "pygments_lexer": "ipython3",
   "version": "3.8.10"
  }
 },
 "nbformat": 4,
 "nbformat_minor": 2
}